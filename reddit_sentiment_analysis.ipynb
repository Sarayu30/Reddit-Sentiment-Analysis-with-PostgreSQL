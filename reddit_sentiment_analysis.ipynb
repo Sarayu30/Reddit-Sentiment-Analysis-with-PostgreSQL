{
 "cells": [
  {
   "cell_type": "code",
   "execution_count": 1,
   "id": "c92cf698-5d1a-45ba-b8e0-fa9f224408a9",
   "metadata": {},
   "outputs": [
    {
     "name": "stdout",
     "output_type": "stream",
     "text": [
      "Collecting psycopg2-binary\n",
      "  Downloading psycopg2_binary-2.9.10-cp312-cp312-win_amd64.whl.metadata (5.0 kB)\n",
      "Requirement already satisfied: sqlalchemy in c:\\users\\sarayu krishna\\appdata\\local\\programs\\python\\python312\\lib\\site-packages (2.0.23)\n",
      "Requirement already satisfied: typing-extensions>=4.2.0 in c:\\users\\sarayu krishna\\appdata\\local\\programs\\python\\python312\\lib\\site-packages (from sqlalchemy) (4.12.2)\n",
      "Requirement already satisfied: greenlet!=0.4.17 in c:\\users\\sarayu krishna\\appdata\\local\\programs\\python\\python312\\lib\\site-packages (from sqlalchemy) (3.0.3)\n",
      "Downloading psycopg2_binary-2.9.10-cp312-cp312-win_amd64.whl (1.2 MB)\n",
      "   ---------------------------------------- 0.0/1.2 MB ? eta -:--:--\n",
      "   --------- ------------------------------ 0.3/1.2 MB ? eta -:--:--\n",
      "   ---------------------------------------- 1.2/1.2 MB 5.2 MB/s eta 0:00:00\n",
      "Installing collected packages: psycopg2-binary\n",
      "Successfully installed psycopg2-binary-2.9.10\n"
     ]
    }
   ],
   "source": [
    "!pip install psycopg2-binary sqlalchemy\n"
   ]
  },
  {
   "cell_type": "code",
   "execution_count": 1,
   "id": "e1b0246b-bc21-4f62-99f4-0de9bc2a7e87",
   "metadata": {},
   "outputs": [
    {
     "name": "stdout",
     "output_type": "stream",
     "text": [
      "Collecting praw\n",
      "  Downloading praw-7.8.1-py3-none-any.whl.metadata (9.4 kB)\n",
      "Collecting prawcore<3,>=2.4 (from praw)\n",
      "  Downloading prawcore-2.4.0-py3-none-any.whl.metadata (5.0 kB)\n",
      "Collecting update_checker>=0.18 (from praw)\n",
      "  Downloading update_checker-0.18.0-py3-none-any.whl.metadata (2.3 kB)\n",
      "Requirement already satisfied: websocket-client>=0.54.0 in c:\\users\\sarayu krishna\\appdata\\local\\programs\\python\\python312\\lib\\site-packages (from praw) (1.8.0)\n",
      "Requirement already satisfied: requests<3.0,>=2.6.0 in c:\\users\\sarayu krishna\\appdata\\local\\programs\\python\\python312\\lib\\site-packages (from prawcore<3,>=2.4->praw) (2.31.0)\n",
      "Requirement already satisfied: charset-normalizer<4,>=2 in c:\\users\\sarayu krishna\\appdata\\local\\programs\\python\\python312\\lib\\site-packages (from requests<3.0,>=2.6.0->prawcore<3,>=2.4->praw) (3.3.2)\n",
      "Requirement already satisfied: idna<4,>=2.5 in c:\\users\\sarayu krishna\\appdata\\local\\programs\\python\\python312\\lib\\site-packages (from requests<3.0,>=2.6.0->prawcore<3,>=2.4->praw) (2.10)\n",
      "Requirement already satisfied: urllib3<3,>=1.21.1 in c:\\users\\sarayu krishna\\appdata\\local\\programs\\python\\python312\\lib\\site-packages (from requests<3.0,>=2.6.0->prawcore<3,>=2.4->praw) (1.26.19)\n",
      "Requirement already satisfied: certifi>=2017.4.17 in c:\\users\\sarayu krishna\\appdata\\local\\programs\\python\\python312\\lib\\site-packages (from requests<3.0,>=2.6.0->prawcore<3,>=2.4->praw) (2024.8.30)\n",
      "Downloading praw-7.8.1-py3-none-any.whl (189 kB)\n",
      "Downloading prawcore-2.4.0-py3-none-any.whl (17 kB)\n",
      "Downloading update_checker-0.18.0-py3-none-any.whl (7.0 kB)\n",
      "Installing collected packages: update_checker, prawcore, praw\n",
      "Successfully installed praw-7.8.1 prawcore-2.4.0 update_checker-0.18.0\n"
     ]
    }
   ],
   "source": [
    "!pip install praw\n"
   ]
  },
  {
   "cell_type": "code",
   "execution_count": 2,
   "id": "f3d1bc7f-c6d5-43ca-af11-67375b39565a",
   "metadata": {},
   "outputs": [
    {
     "name": "stdout",
     "output_type": "stream",
     "text": [
      "Data processing complete!\n"
     ]
    }
   ],
   "source": [
    "import praw\n",
    "from textblob import TextBlob\n",
    "import psycopg2\n",
    "\n",
    "# Setup Reddit API (use your credentials)\n",
    "reddit = praw.Reddit(client_id='vqR-SAUdq2xx5KciYtmCDg', \n",
    "                     client_secret='Tnp-LGK20WwQvSOJows6ZlK5tjmBxw', \n",
    "                     user_agent='my-reddit-sentiment-analyzer')\n",
    "\n",
    "# Connect to PostgreSQL\n",
    "conn = psycopg2.connect(dbname=\"sentiment_analysis\", user=\"postgres\", password=\"byebye@nyc04\", host=\"localhost\", port=\"5432\")\n",
    "cursor = conn.cursor()\n",
    "\n",
    "def get_sentiment(post_text):\n",
    "    \"\"\"Returns sentiment polarity for the given text.\"\"\"\n",
    "    analysis = TextBlob(post_text)\n",
    "    return analysis.sentiment.polarity\n",
    "\n",
    "def insert_post(post_text, sentiment_score):\n",
    "    \"\"\"Inserts the post and sentiment score into the database.\"\"\"\n",
    "    cursor.execute(\"INSERT INTO tweets (tweet_text, sentiment_score) VALUES (%s, %s)\", (post_text, sentiment_score))\n",
    "    conn.commit()\n",
    "\n",
    "# Fetch posts from a subreddit\n",
    "subreddit = reddit.subreddit('all')  # You can change this to any subreddit, e.g., 'python', 'technology', etc.\n",
    "for post in subreddit.new(limit=10):  # Fetch 10 recent posts\n",
    "    post_text = post.title  # You can also use post.selftext for text content in case of text posts\n",
    "    sentiment_score = get_sentiment(post_text)  # Get sentiment score for the post\n",
    "    insert_post(post_text, sentiment_score)  # Insert into database\n",
    "\n",
    "# Close database connection\n",
    "cursor.close()\n",
    "conn.close()\n",
    "\n",
    "print(\"Data processing complete!\")\n"
   ]
  },
  {
   "cell_type": "code",
   "execution_count": 4,
   "id": "3b45c90c-5c57-43a6-aae6-5169526d1362",
   "metadata": {},
   "outputs": [
    {
     "data": {
      "image/png": "[encoded data removed]",
      "text/plain": [
       "<Figure size 640x480 with 1 Axes>"
      ]
     },
     "metadata": {},
     "output_type": "display_data"
    }
   ],
   "source": [
    "import matplotlib.pyplot as plt\n",
    "import psycopg2\n",
    "\n",
    "# Connect to PostgreSQL\n",
    "conn = psycopg2.connect(dbname=\"sentiment_analysis\", user=\"postgres\", password=\"byebye@nyc04\", host=\"localhost\", port=\"5432\")\n",
    "cursor = conn.cursor()\n",
    "\n",
    "# Query to get sentiment data\n",
    "cursor.execute(\"SELECT sentiment_score FROM tweets;\")\n",
    "sentiment_scores = cursor.fetchall()\n",
    "\n",
    "# Close connection\n",
    "cursor.close()\n",
    "conn.close()\n",
    "\n",
    "# Extract sentiment scores into a list\n",
    "sentiment_scores = [score[0] for score in sentiment_scores]\n",
    "\n",
    "# Plot the sentiment scores\n",
    "plt.hist(sentiment_scores, bins=20, edgecolor='black')\n",
    "plt.title('Distribution of Sentiment Scores')\n",
    "plt.xlabel('Sentiment Score')\n",
    "plt.ylabel('Frequency')\n",
    "plt.show()\n"
   ]
  },
  {
   "cell_type": "code",
   "execution_count": 6,
   "id": "69fbd4af-61c1-4949-8804-26d39229d5be",
   "metadata": {},
   "outputs": [
    {
     "name": "stdout",
     "output_type": "stream",
     "text": [
      "Collecting dash\n",
      "  Downloading dash-2.18.2-py3-none-any.whl.metadata (10 kB)\n",
      "Requirement already satisfied: Flask<3.1,>=1.0.4 in c:\\users\\sarayu krishna\\appdata\\local\\programs\\python\\python312\\lib\\site-packages (from dash) (3.0.0)\n",
      "Requirement already satisfied: Werkzeug<3.1 in c:\\users\\sarayu krishna\\appdata\\local\\programs\\python\\python312\\lib\\site-packages (from dash) (3.0.1)\n",
      "Requirement already satisfied: plotly>=5.0.0 in c:\\users\\sarayu krishna\\appdata\\local\\programs\\python\\python312\\lib\\site-packages (from dash) (5.22.0)\n",
      "Collecting dash-html-components==2.0.0 (from dash)\n",
      "  Downloading dash_html_components-2.0.0-py3-none-any.whl.metadata (3.8 kB)\n",
      "Collecting dash-core-components==2.0.0 (from dash)\n",
      "  Downloading dash_core_components-2.0.0-py3-none-any.whl.metadata (2.9 kB)\n",
      "Collecting dash-table==5.0.0 (from dash)\n",
      "  Downloading dash_table-5.0.0-py3-none-any.whl.metadata (2.4 kB)\n",
      "Requirement already satisfied: importlib-metadata in c:\\users\\sarayu krishna\\appdata\\local\\programs\\python\\python312\\lib\\site-packages (from dash) (8.2.0)\n",
      "Requirement already satisfied: typing-extensions>=4.1.1 in c:\\users\\sarayu krishna\\appdata\\local\\programs\\python\\python312\\lib\\site-packages (from dash) (4.12.2)\n",
      "Requirement already satisfied: requests in c:\\users\\sarayu krishna\\appdata\\local\\programs\\python\\python312\\lib\\site-packages (from dash) (2.31.0)\n",
      "Collecting retrying (from dash)\n",
      "  Downloading retrying-1.3.4-py3-none-any.whl.metadata (6.9 kB)\n",
      "Requirement already satisfied: nest-asyncio in c:\\users\\sarayu krishna\\appdata\\local\\programs\\python\\python312\\lib\\site-packages (from dash) (1.6.0)\n",
      "Requirement already satisfied: setuptools in c:\\users\\sarayu krishna\\appdata\\local\\programs\\python\\python312\\lib\\site-packages (from dash) (75.4.0)\n",
      "Requirement already satisfied: Jinja2>=3.1.2 in c:\\users\\sarayu krishna\\appdata\\local\\programs\\python\\python312\\lib\\site-packages (from Flask<3.1,>=1.0.4->dash) (3.1.2)\n",
      "Requirement already satisfied: itsdangerous>=2.1.2 in c:\\users\\sarayu krishna\\appdata\\local\\programs\\python\\python312\\lib\\site-packages (from Flask<3.1,>=1.0.4->dash) (2.1.2)\n",
      "Requirement already satisfied: click>=8.1.3 in c:\\users\\sarayu krishna\\appdata\\local\\programs\\python\\python312\\lib\\site-packages (from Flask<3.1,>=1.0.4->dash) (8.1.7)\n",
      "Requirement already satisfied: blinker>=1.6.2 in c:\\users\\sarayu krishna\\appdata\\local\\programs\\python\\python312\\lib\\site-packages (from Flask<3.1,>=1.0.4->dash) (1.7.0)\n",
      "Requirement already satisfied: tenacity>=6.2.0 in c:\\users\\sarayu krishna\\appdata\\local\\programs\\python\\python312\\lib\\site-packages (from plotly>=5.0.0->dash) (8.4.1)\n",
      "Requirement already satisfied: packaging in c:\\users\\sarayu krishna\\appdata\\local\\programs\\python\\python312\\lib\\site-packages (from plotly>=5.0.0->dash) (23.2)\n",
      "Requirement already satisfied: MarkupSafe>=2.1.1 in c:\\users\\sarayu krishna\\appdata\\local\\programs\\python\\python312\\lib\\site-packages (from Werkzeug<3.1->dash) (2.1.3)\n",
      "Requirement already satisfied: zipp>=0.5 in c:\\users\\sarayu krishna\\appdata\\local\\programs\\python\\python312\\lib\\site-packages (from importlib-metadata->dash) (3.19.2)\n",
      "Requirement already satisfied: charset-normalizer<4,>=2 in c:\\users\\sarayu krishna\\appdata\\local\\programs\\python\\python312\\lib\\site-packages (from requests->dash) (3.3.2)\n",
      "Requirement already satisfied: idna<4,>=2.5 in c:\\users\\sarayu krishna\\appdata\\local\\programs\\python\\python312\\lib\\site-packages (from requests->dash) (2.10)\n",
      "Requirement already satisfied: urllib3<3,>=1.21.1 in c:\\users\\sarayu krishna\\appdata\\local\\programs\\python\\python312\\lib\\site-packages (from requests->dash) (1.26.19)\n",
      "Requirement already satisfied: certifi>=2017.4.17 in c:\\users\\sarayu krishna\\appdata\\local\\programs\\python\\python312\\lib\\site-packages (from requests->dash) (2024.8.30)\n",
      "Requirement already satisfied: six>=1.7.0 in c:\\users\\sarayu krishna\\appdata\\local\\programs\\python\\python312\\lib\\site-packages (from retrying->dash) (1.16.0)\n",
      "Requirement already satisfied: colorama in c:\\users\\sarayu krishna\\appdata\\local\\programs\\python\\python312\\lib\\site-packages (from click>=8.1.3->Flask<3.1,>=1.0.4->dash) (0.4.6)\n",
      "Downloading dash-2.18.2-py3-none-any.whl (7.8 MB)\n",
      "   ---------------------------------------- 0.0/7.8 MB ? eta -:--:--\n",
      "   ------ --------------------------------- 1.3/7.8 MB 7.4 MB/s eta 0:00:01\n",
      "   ------------ --------------------------- 2.4/7.8 MB 6.4 MB/s eta 0:00:01\n",
      "   -------------- ------------------------- 2.9/7.8 MB 6.7 MB/s eta 0:00:01\n",
      "   -------------------- ------------------- 3.9/7.8 MB 4.8 MB/s eta 0:00:01\n",
      "   --------------------- ------------------ 4.2/7.8 MB 4.3 MB/s eta 0:00:01\n",
      "   ---------------------- ----------------- 4.5/7.8 MB 3.8 MB/s eta 0:00:01\n",
      "   ------------------------ --------------- 4.7/7.8 MB 3.4 MB/s eta 0:00:01\n",
      "   ------------------------- -------------- 5.0/7.8 MB 3.1 MB/s eta 0:00:01\n",
      "   ---------------------------- ----------- 5.5/7.8 MB 2.8 MB/s eta 0:00:01\n",
      "   ------------------------------ --------- 6.0/7.8 MB 2.8 MB/s eta 0:00:01\n",
      "   --------------------------------- ------ 6.6/7.8 MB 2.8 MB/s eta 0:00:01\n",
      "   ------------------------------------- -- 7.3/7.8 MB 2.8 MB/s eta 0:00:01\n",
      "   ---------------------------------------  7.6/7.8 MB 2.8 MB/s eta 0:00:01\n",
      "   ---------------------------------------- 7.8/7.8 MB 2.7 MB/s eta 0:00:00\n",
      "Downloading dash_core_components-2.0.0-py3-none-any.whl (3.8 kB)\n",
      "Downloading dash_html_components-2.0.0-py3-none-any.whl (4.1 kB)\n",
      "Downloading dash_table-5.0.0-py3-none-any.whl (3.9 kB)\n",
      "Downloading retrying-1.3.4-py3-none-any.whl (11 kB)\n",
      "Installing collected packages: dash-table, dash-html-components, dash-core-components, retrying, dash\n",
      "Successfully installed dash-2.18.2 dash-core-components-2.0.0 dash-html-components-2.0.0 dash-table-5.0.0 retrying-1.3.4\n"
     ]
    }
   ],
   "source": [
    "!pip install dash"
   ]
  },
  {
   "cell_type": "code",
   "execution_count": 8,
   "id": "d53a3c1f-cc64-4a97-b1ec-3d717e939952",
   "metadata": {},
   "outputs": [
    {
     "data": {
      "text/html": [
       "\n",
       "        <iframe\n",
       "            width=\"100%\"\n",
       "            height=\"650\"\n",
       "            src=\"http://127.0.0.1:8050/\"\n",
       "            frameborder=\"0\"\n",
       "            allowfullscreen\n",
       "            \n",
       "        ></iframe>\n",
       "        "
      ],
      "text/plain": [
       "<IPython.lib.display.IFrame at 0x1ced97bd430>"
      ]
     },
     "metadata": {},
     "output_type": "display_data"
    }
   ],
   "source": [
    "import dash\n",
    "from dash import dcc, html\n",
    "import plotly.graph_objs as go\n",
    "import psycopg2\n",
    "\n",
    "app = dash.Dash(__name__)\n",
    "\n",
    "# Connect to PostgreSQL\n",
    "conn = psycopg2.connect(dbname=\"sentiment_analysis\", user=\"postgres\", password=\"byebye@nyc04\", host=\"localhost\", port=\"5432\")\n",
    "cursor = conn.cursor()\n",
    "\n",
    "# Query to get sentiment data\n",
    "cursor.execute(\"SELECT sentiment_score FROM tweets;\")\n",
    "sentiment_scores = cursor.fetchall()\n",
    "\n",
    "# Close connection\n",
    "cursor.close()\n",
    "conn.close()\n",
    "\n",
    "# Extract sentiment scores into a list\n",
    "sentiment_scores = [score[0] for score in sentiment_scores]\n",
    "\n",
    "# Create a histogram for sentiment distribution\n",
    "fig = go.Figure(data=[go.Histogram(x=sentiment_scores, nbinsx=20)])\n",
    "fig.update_layout(title=\"Sentiment Distribution\",\n",
    "                  xaxis_title=\"Sentiment Score\",\n",
    "                  yaxis_title=\"Frequency\")\n",
    "\n",
    "app.layout = html.Div(children=[\n",
    "    html.H1(children='Reddit Sentiment Analysis'),\n",
    "    dcc.Graph(\n",
    "        id='sentiment-histogram',\n",
    "        figure=fig\n",
    "    )\n",
    "])\n",
    "\n",
    "if __name__ == '__main__':\n",
    "    app.run_server(debug=True)\n"
   ]
  },
  {
   "cell_type": "code",
   "execution_count": null,
   "id": "43faebf4-7d51-41e0-8e10-3048e20286a1",
   "metadata": {},
   "outputs": [],
   "source": []
  }
 ],
 "metadata": {
  "kernelspec": {
   "display_name": "Python 3 (ipykernel)",
   "language": "python",
   "name": "python3"
  },
  "language_info": {
   "codemirror_mode": {
    "name": "ipython",
    "version": 3
   },
   "file_extension": ".py",
   "mimetype": "text/x-python",
   "name": "python",
   "nbconvert_exporter": "python",
   "pygments_lexer": "ipython3",
   "version": "3.12.0"
  }
 },
 "nbformat": 4,
 "nbformat_minor": 5
}
